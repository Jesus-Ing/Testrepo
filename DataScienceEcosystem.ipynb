{
 "cells": [
  {
   "cell_type": "markdown",
   "id": "cfe05f83",
   "metadata": {},
   "source": [
    "# Data Science Tools and Ecosystem"
   ]
  },
  {
   "cell_type": "markdown",
   "id": "f74a4816",
   "metadata": {},
   "source": [
    "In this notebook, Data Science Tools and Ecosystem are summarized."
   ]
  },
  {
   "cell_type": "markdown",
   "id": "0cbdb17c",
   "metadata": {},
   "source": [
    "Objectives\n",
    "\n",
    "   * Popular Data Science languajes\n",
    "   * Commonly Data Science libraries\n",
    "   * Tools used for Data Science\n",
    "   * Arithmetic with Python\n",
    "   * Variables with Python"
   ]
  },
  {
   "cell_type": "markdown",
   "id": "e4dd87ee",
   "metadata": {},
   "source": [
    "Some of the popular languages that Data Scientists use are:\n",
    "\n",
    "1. Python\n",
    "2. R\n",
    "3. Scala\n",
    "4. Julia"
   ]
  },
  {
   "cell_type": "markdown",
   "id": "c4e72159",
   "metadata": {},
   "source": [
    "Some of the commonly used libraries used by Data Scientists include:\n",
    "\n",
    "1. Python libraries\n",
    "    * Pandas\n",
    "    * Numpy\n",
    "    * Plotly\n",
    "\n",
    "2. R libraries\n",
    "    * dplyr\n",
    "    * ggplot2\n",
    "    * tidyr"
   ]
  },
  {
   "cell_type": "markdown",
   "id": "1194d945",
   "metadata": {},
   "source": [
    "<table>\n",
    "  <tr>\n",
    "    <th>Data Science Tools</th>\n",
    "  </tr>    \n",
    "  <tr>\n",
    "    <td>Jupiter NoteBook</td>    \n",
    "  </tr>\n",
    "  <tr>\n",
    "    <td>Apache Spark</td>    \n",
    "  </tr>\n",
    "  <tr>\n",
    "    <td>KNIME</td>    \n",
    "  </tr>\n",
    "</table>"
   ]
  },
  {
   "cell_type": "markdown",
   "id": "aa3e53c0",
   "metadata": {},
   "source": [
    "### Below are a few examples of evaluating arithmetic expressions in Python"
   ]
  },
  {
   "cell_type": "code",
   "execution_count": 2,
   "id": "1c7e838d",
   "metadata": {},
   "outputs": [
    {
     "data": {
      "text/plain": [
       "17"
      ]
     },
     "execution_count": 2,
     "metadata": {},
     "output_type": "execute_result"
    }
   ],
   "source": [
    "# This a simple arithmetic expression to mutiply then add integers\n",
    "\n",
    "(3*4)+5"
   ]
  },
  {
   "cell_type": "code",
   "execution_count": 4,
   "id": "f5c9dc9a",
   "metadata": {},
   "outputs": [
    {
     "name": "stdout",
     "output_type": "stream",
     "text": [
      "3.3333333333333335\n"
     ]
    }
   ],
   "source": [
    "# This will convert 200 minutes to hours by diving by 60\n",
    "\n",
    "a = 200 # Time in minutes\n",
    "b = 60 # measure time\n",
    "z = 0 # Result\n",
    "\n",
    "z = a/b\n",
    "\n",
    "print(z)"
   ]
  },
  {
   "cell_type": "markdown",
   "id": "69946a1b",
   "metadata": {},
   "source": [
    "## Author\n",
    "\n",
    "Jesus Romero\n",
    "\n"
   ]
  }
 ],
 "metadata": {
  "kernelspec": {
   "display_name": "Python 3 (ipykernel)",
   "language": "python",
   "name": "python3"
  },
  "language_info": {
   "codemirror_mode": {
    "name": "ipython",
    "version": 3
   },
   "file_extension": ".py",
   "mimetype": "text/x-python",
   "name": "python",
   "nbconvert_exporter": "python",
   "pygments_lexer": "ipython3",
   "version": "3.10.12"
  }
 },
 "nbformat": 4,
 "nbformat_minor": 5
}
